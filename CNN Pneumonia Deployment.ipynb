{
 "cells": [
  {
   "cell_type": "code",
   "execution_count": 55,
   "id": "47a53b38-c982-45e6-9994-f503a0cb0dbc",
   "metadata": {},
   "outputs": [],
   "source": [
    "import streamlit as st\n",
    "import numpy as np\n",
    "import tensorflow as tf \n",
    "from tensorflow.keras.preprocessing import image\n",
    "from PIL import Image\n",
    "from tensorflow.keras.models import load_model"
   ]
  },
  {
   "cell_type": "code",
   "execution_count": 57,
   "id": "46fe248f-d908-4a81-9f5e-d68f7a4038b7",
   "metadata": {},
   "outputs": [],
   "source": [
    "model=load_model('Pnuemonia pred model.keras')"
   ]
  },
  {
   "cell_type": "code",
   "execution_count": 59,
   "id": "4aecb905-b115-42d2-8a11-1b30d9ea73bc",
   "metadata": {},
   "outputs": [],
   "source": [
    "class_names=['Normal','Pneumonia']\n",
    "\n",
    "st.title('Pneumonia Detection from Chest X-Ray')\n",
    "st.write('upload a chest X-ray image to predict whether it shows signs of pnneumonia disease')\n",
    "\n",
    "uploaded_file=st.file_uploader('choose an X-ray image', type=['jpg','png','jpeg'])\n",
    "\n",
    "if uploaded_file is not None:\n",
    "    img= Image.open(uploaded_file).convert('RGB')\n",
    "    st.image(img,caption='Image Uploaded Successfully',use_column_width=True)\n",
    "\n",
    "    #Preprocessing\n",
    "    img=img.resize((32,32)) #resize image\n",
    "    img_array=image.img_to_array(img)/255.0 #rescaled image\n",
    "    img_array=np.expand_dims(img_array,axis=0) #adding 1 dimension\n",
    "    prediction=model.predict(img_array)\n",
    "    confidence=float(prediction[0][0])\n",
    "\n",
    "    if  confidence>=0.5:\n",
    "        st.error('Prediction: pnumonia Detected')\n",
    "    else:\n",
    "        st.success('Prediction: No pnumonia Detected')\n",
    "    "
   ]
  },
  {
   "cell_type": "code",
   "execution_count": null,
   "id": "7bb459bd-0557-46a2-a2d9-b2f52dc04d33",
   "metadata": {},
   "outputs": [],
   "source": []
  },
  {
   "cell_type": "code",
   "execution_count": null,
   "id": "85f6f0b5-0620-41b4-9c78-2a76aa407c25",
   "metadata": {},
   "outputs": [],
   "source": []
  },
  {
   "cell_type": "code",
   "execution_count": null,
   "id": "db557462-858d-4889-93e2-6765d42a2b8e",
   "metadata": {},
   "outputs": [],
   "source": []
  }
 ],
 "metadata": {
  "kernelspec": {
   "display_name": "Python [conda env:base] *",
   "language": "python",
   "name": "conda-base-py"
  },
  "language_info": {
   "codemirror_mode": {
    "name": "ipython",
    "version": 3
   },
   "file_extension": ".py",
   "mimetype": "text/x-python",
   "name": "python",
   "nbconvert_exporter": "python",
   "pygments_lexer": "ipython3",
   "version": "3.12.7"
  }
 },
 "nbformat": 4,
 "nbformat_minor": 5
}
